{
 "cells": [
  {
   "cell_type": "code",
   "execution_count": 1,
   "metadata": {},
   "outputs": [],
   "source": [
    "import re\n",
    "import requests\n",
    "from bs4 import BeautifulSoup"
   ]
  },
  {
   "cell_type": "code",
   "execution_count": 2,
   "metadata": {},
   "outputs": [],
   "source": [
    "def strip_name(name):\n",
    "    return re.fullmatch(r\"^(.+?)(?:\\s+\\d+(?:,\\d+)*)?$\", name)[1]\n",
    "\n",
    "\n",
    "def parse_price(price_str):\n",
    "    return int(re.fullmatch(r\"^(\\d+),-\\s*$\", price_str)[1])\n",
    "\n",
    "\n",
    "class Dish:\n",
    "    def __init__(self, cafeteria: str, address: str, kind: str, name_czech: str, name_english: str, price_student: str, price_employee: str, price_guest: str):\n",
    "        self.cafeteria      = cafeteria\n",
    "        self.address        = address\n",
    "        self.kind           = kind[0]\n",
    "        self.name_czech     = strip_name(name_czech)\n",
    "        self.name_english   = strip_name(name_english)\n",
    "        self.price_student  = parse_price(price_student)\n",
    "        self.price_employee = parse_price(price_employee)\n",
    "        self.price_guest    = parse_price(price_guest)\n",
    "        \n",
    "    def __repr__(self):\n",
    "        return \"Dish(\" + \", \".join(repr(x) for x in [self.cafeteria, self.address, self.kind, self.name_czech, self.name_english, self.price_student, self.price_employee, self.price_guest]) + \")\"\n",
    "        "
   ]
  },
  {
   "cell_type": "code",
   "execution_count": 3,
   "metadata": {},
   "outputs": [
    {
     "name": "stdout",
     "output_type": "stream",
     "text": [
      "[28. 1. 2020 18:32:23] Menza Starý pivovar -- 0 dish options available\n",
      "[28. 1. 2020 18:32:23] Menza Purkyňova -- 11 dish options available\n"
     ]
    },
    {
     "data": {
      "text/plain": [
       "[Dish('Menza Purkyňova', 'Purkyňova 93, Brno-Královo Pole', 'H', 'Bramborové knedlíky se švestkami a mákem', 'Potato dumplings with plums', 42, 16, 78),\n",
       " Dish('Menza Purkyňova', 'Purkyňova 93, Brno-Královo Pole', 'H', 'Kuřecí plátek 150g v omáčce pepřové', 'Kuřecí plátek 150g v omáčce pepřové', 50, 24, 85),\n",
       " Dish('Menza Purkyňova', 'Purkyňova 93, Brno-Královo Pole', 'H', 'Rizoto s angl.slaninou a kuřecím masem, okurek', 'Risotto with bacon and chicken meat, pickle', 47, 22, 83),\n",
       " Dish('Menza Purkyňova', 'Purkyňova 93, Brno-Královo Pole', 'H', 'Těstoviny s olivami,zeleninou a mozzarellou', 'Pasta with olives, vegetables and mozzarella', 38, 12, 74),\n",
       " Dish('Menza Purkyňova', 'Purkyňova 93, Brno-Královo Pole', 'H', 'Uzená krkovička, omáčka česneková', 'Smoked pork neck, garlic sauce', 42, 16, 77),\n",
       " Dish('Menza Purkyňova', 'Purkyňova 93, Brno-Královo Pole', 'P', 'P čočková s uzeninou', 'Lentile soup with sausage', 12, 12, 12),\n",
       " Dish('Menza Purkyňova', 'Purkyňova 93, Brno-Královo Pole', 'P', 'P kuřecí s masem a těstovinou', 'Chicken soap with meat and pasta', 12, 12, 12),\n",
       " Dish('Menza Purkyňova', 'Purkyňova 93, Brno-Královo Pole', 'O', 'Brambory americké M', 'Brambory americké M', 17, 17, 17),\n",
       " Dish('Menza Purkyňova', 'Purkyňova 93, Brno-Královo Pole', 'O', 'Brambory vařené M', 'Potatoes', 14, 14, 14),\n",
       " Dish('Menza Purkyňova', 'Purkyňova 93, Brno-Královo Pole', 'O', 'Knedlíky houskové M', 'Dumplings', 11, 11, 11),\n",
       " Dish('Menza Purkyňova', 'Purkyňova 93, Brno-Královo Pole', 'O', 'Rýže jasmínová', 'Rýže jasmínová', 8, 8, 8)]"
      ]
     },
     "execution_count": 3,
     "metadata": {},
     "output_type": "execute_result"
    }
   ],
   "source": [
    "available_dishes = []\n",
    "\n",
    "for num in [\"5\", \"10\"]:\n",
    "    resp = requests.get(\"http://www.kam.vutbr.cz/?p=menu&provoz=\" + num)\n",
    "    \n",
    "    assert resp.status_code == 200\n",
    "    assert resp.encoding == \"utf-8\"\n",
    "\n",
    "    soup = BeautifulSoup(resp.text)\n",
    "\n",
    "    sa2 = soup.find(\"div\", {\"id\": \"sa2\"})\n",
    "        \n",
    "    #heading = sa2.find(\"h1\").text\n",
    "    cafeteria_match = re.fullmatch(r\"^<h1>([^<>]+)<br/><small><small>([^<>]+)</small></small>.*</h1>$\", str(sa2.find(\"h1\")))\n",
    "    cafeteria_name = cafeteria_match[1]\n",
    "    cafeteria_address = cafeteria_match[2]\n",
    "    \n",
    "    last_update = re.fullmatch(r\"^Čas aktualizace dat: (\\d{1,2}\\. \\d{1,2}\\. \\d{4} \\d{1,2}:\\d{2}:\\d{2})\\.$\", sa2.find_all(\"small\")[-1].text)[1]\n",
    "    \n",
    "    rows = soup.find_all(\"tr\", class_=\"wn0\")\n",
    "\n",
    "    print(f\"[{last_update}] {cafeteria_name} -- {len(rows)} dish options available\")\n",
    "    \n",
    "    available_dishes.extend(Dish(cafeteria_name, cafeteria_address, *(td.text.replace(\"\\xA0\", \" \") for td in r.find_all(\"td\"))) for r in rows)\n",
    "\n",
    "available_dishes"
   ]
  },
  {
   "cell_type": "code",
   "execution_count": 4,
   "metadata": {},
   "outputs": [
    {
     "data": {
      "text/plain": [
       "Dish('Menza Purkyňova', 'Purkyňova 93, Brno-Královo Pole', 'H', 'Těstoviny s olivami,zeleninou a mozzarellou', 'Pasta with olives, vegetables and mozzarella', 38, 12, 74)"
      ]
     },
     "execution_count": 4,
     "metadata": {},
     "output_type": "execute_result"
    }
   ],
   "source": [
    "# Filter out non-main dishes and sort the main dishes by their price in an ascending order.\n",
    "cheapest = sorted([x for x in available_dishes if x.kind == \"H\"], key=lambda x: x.price_student)\n",
    "\n",
    "# The cheapest main dish.\n",
    "cheapest[0]"
   ]
  },
  {
   "cell_type": "code",
   "execution_count": 5,
   "metadata": {},
   "outputs": [
    {
     "data": {
      "text/plain": [
       "[('Těstoviny s olivami,zeleninou a mozzarellou', 38),\n",
       " ('Bramborové knedlíky se švestkami a mákem', 42),\n",
       " ('Uzená krkovička, omáčka česneková', 42),\n",
       " ('Rizoto s angl.slaninou a kuřecím masem, okurek', 47),\n",
       " ('Kuřecí plátek 150g v omáčce pepřové', 50)]"
      ]
     },
     "execution_count": 5,
     "metadata": {},
     "output_type": "execute_result"
    }
   ],
   "source": [
    "# Get the description and price of the cheapest main dishes.\n",
    "[(x.name_czech, x.price_student) for x in cheapest]"
   ]
  }
 ],
 "metadata": {
  "kernelspec": {
   "display_name": "Python 3",
   "language": "python",
   "name": "python3"
  },
  "language_info": {
   "codemirror_mode": {
    "name": "ipython",
    "version": 3
   },
   "file_extension": ".py",
   "mimetype": "text/x-python",
   "name": "python",
   "nbconvert_exporter": "python",
   "pygments_lexer": "ipython3",
   "version": "3.7.6"
  }
 },
 "nbformat": 4,
 "nbformat_minor": 4
}
